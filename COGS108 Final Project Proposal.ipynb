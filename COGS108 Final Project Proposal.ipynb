{
 "cells": [
  {
   "cell_type": "code",
   "execution_count": 2,
   "metadata": {},
   "outputs": [],
   "source": [
    "from IPython.display import Image"
   ]
  },
  {
   "cell_type": "markdown",
   "metadata": {},
   "source": [
    "# COGS108 - Final Project Proposal"
   ]
  },
  {
   "cell_type": "markdown",
   "metadata": {},
   "source": [
    "# Names: "
   ]
  },
  {
   "cell_type": "markdown",
   "metadata": {},
   "source": [
    "- Sruthi Vedantham\n",
    "- Sreyas Narayanan\n",
    "- Karissa Jacobsen \n",
    "- Saveree Joshipura"
   ]
  },
  {
   "cell_type": "markdown",
   "metadata": {},
   "source": [
    "# Group Member IDs"
   ]
  },
  {
   "cell_type": "markdown",
   "metadata": {},
   "source": [
    "- A13354071\n",
    "- A13927926\n",
    "- A13908856\n",
    "- A13349228"
   ]
  },
  {
   "cell_type": "markdown",
   "metadata": {},
   "source": [
    "# Research Question"
   ]
  },
  {
   "cell_type": "markdown",
   "metadata": {},
   "source": [
    "Can the results of the presidential election be predicted through the results of the previous midterm election? Is the decision of the electoral college a good indicator\n",
    "How well does the electoral college represent the spread of republicans/democrats using primaries? \n",
    "Can we determine how the electoral college will vote based on the spread of votes from the midterm elections? \n"
   ]
  },
  {
   "cell_type": "markdown",
   "metadata": {},
   "source": [
    "## Background and Prior Work"
   ]
  },
  {
   "cell_type": "markdown",
   "metadata": {},
   "source": [
    "With the upcoming presidential election, we wanted to try to develop a model which could attempt to predict the result. We specifically wanted to base our prediction on midterm election results and get some idea of how popular votes correlate to votes from the electoral college.  Though there are many iterations of prediction models for US presidential elections, many of these are based on factors such as consecutive terms in office for a certain party, presidential approval rate, unemployment rate, etc. whereas we would like to take a deeper look at how well the electoral college represents the popular vote as well as well as how the latter can predict the former. Additionally, while other models look at all states and their overall political leanings, our model focuses on voting outcomes within each state individually.\n",
    "\n",
    "A similar study is described in an article from Texas Tech University called “A Bayesian Model for the Prediction of United States Presidential Elections” wherein data from poll data accessed through the various websites was used as the chief source to predict election results and had success in predicting electoral college results. This study had an average 95% accuracy rate for 2008, 2012, and 2016 presidential elections. However, this model was unsuccessful in predicting 2016 election results according to the study because it failed to account for the date of polls and a lack of adapting to trends over time which could be a challenge in our own analysis as well. \n",
    "\n",
    "In another study “Modeling and forecasting US presidential election using learning algorithms” stepwise regression testing was used to determine the significance of the following factors: the number of consecutive terms the incumbent party has been in office, personal income, electoral votes of the incumbent party in the previous election, votes of the incumbent party in the last senate election, votes of the incumbent party in the last house of representatives election, the president’s approval rate, unemployment rate and the number of times that the 3-month GDP is above 3.2 within the previous 4 years. Of these, all variables except the president’s job approval rate were omitted. Because many of the above factors did not pass significance testing, and the success of the previously mentioned study based on polling data, we think that our model has the potential to predict the 2020 presidential election.\n",
    "\n",
    "Study 1: https://www.siam.org/Portals/0/Publications/SIURO/Vol12/S01616.pdf?ver=2019-02-12-215230-620\n",
    "Study 2: https://link.springer.com/article/10.1007/s40092-017-0238-2#Sec14\n",
    "\n"
   ]
  },
  {
   "cell_type": "markdown",
   "metadata": {},
   "source": [
    "# Hypothesis"
   ]
  },
  {
   "cell_type": "markdown",
   "metadata": {},
   "source": [
    "We should be able to predict both the binary result, as well as the general spread of the electoral college based on the results of the previous midterms. Specifically, we should be able to predict how a state’s superdelegates will vote to produce the electoral college results of the presidential election."
   ]
  },
  {
   "cell_type": "markdown",
   "metadata": {},
   "source": [
    "# Data"
   ]
  },
  {
   "cell_type": "markdown",
   "metadata": {},
   "source": [
    "\n",
    "Variables: Our y variable (the outcome we are predicting) is the similarity between the voting of the Electoral College’s representatives from a state. We will be predicting this using the voting preferences of that state from the midterm election. \n",
    "\n",
    "Storage: jSON format, in a Pandas DataFrame\n",
    "Number of Observations: 50000 observations would enable us to train the model without underfitting or overfitting, if possible.\n",
    "\n",
    "What/who would the observations be: Electoral college data and midterm election data from the past 5 years. We might increase our scope to the past 10 years after doing some preliminary EDA. \n",
    "\n",
    "Some potential datasets we are thinking about using are:\n",
    "https://www.kaggle.com/eliasdabbas/midterm-elections-candidates-search-results-pages\n",
    "\n",
    "https://www.270towin.com/historical-presidential-elections/ Past electoral college spreads\n",
    "\n",
    "https://www.archives.gov/electoral-college/results?fbclid=IwAR3xewRfvComTf-98iWRK9TceYXEyJdh0_kMTPehagBZRx_b6OHwbhXo4BQ\n"
   ]
  },
  {
   "cell_type": "markdown",
   "metadata": {},
   "source": [
    "# Ethics and Privacy "
   ]
  },
  {
   "cell_type": "markdown",
   "metadata": {},
   "source": [
    "Yes, we do have permission to use our data. Since election data is freely and publicly available, we do have permission to use it. While no one explicitly granted us permission to use the data for this purpose, we feel that this would be a good use of the data because it aims to assess fairness in voting, which is something that is beneficial to voters in general. \n",
    "\n",
    "\n",
    "As of now, we cannot think of any privacy concerns regarding our dataset. We are using only publically available data and election data (data on which candidate won and what every state’s partisan breakdown is) which does not infringe on the privacy of individual voters. \n",
    "\n",
    "\n",
    "Our data is election data, which is inherently biased. Not every citizen votes and so therefore, voting does not completely signify the political viewpoints of the entire country. In addition, there are certain aspects of voting that further prevent minority voters from the polls. This bias is definitely reflected in the outcome of elections. Our analysis cannot affect this bias and so it will be apparent in our analysis as well. These problems definitely impact the significance of our analysis, since we are attempting to see whether the electoral college’s voting patterns represent the voting patterns of midterm voters. However, since midterm voters are those who are more heavily involved in politics (and therefore most likely heavily represented in politics at large), the significance of our results will be affected. There is no way to completely handle this issue other than working to procure better voting regulations and have more people vote to begin with. However, we feel that noting the disparity amongst those who vote and those do not is an important step in analyzing our results (or our expected results). \n"
   ]
  },
  {
   "cell_type": "markdown",
   "metadata": {},
   "source": [
    "# Team Expectations"
   ]
  },
  {
   "cell_type": "markdown",
   "metadata": {},
   "source": [
    "After reading the COGS108 Team Policies, we have come up with the following agreements: \n",
    "\n",
    "All members will partake in code writing, analysis, and extracting insights from the data during our weekly meetings\n",
    "\n",
    "All tasks will be completed together unless delegated during our weekly meetings\n",
    "\n",
    "Through communication in our weekly meetings, we will ensure that all team members are able to equally contribute to the final project \n",
    "\n",
    "By including each member’s name above and by adding their name to the submission, we are indicating that we have read the COGS108 Team Policies, accept our team’s expectations below, and have every intention to fulfill them.\n"
   ]
  },
  {
   "cell_type": "markdown",
   "metadata": {},
   "source": [
    "# Project Timeline Proposal"
   ]
  },
  {
   "cell_type": "markdown",
   "metadata": {},
   "source": [
    "<html>\n",
    "<img src =\"pic1.png\">\n",
    "</html>"
   ]
  },
  {
   "cell_type": "markdown",
   "metadata": {},
   "source": [
    "<html>\n",
    "<img src =\"pic2.png\">\n",
    "</html>"
   ]
  }
 ],
 "metadata": {
  "kernelspec": {
   "display_name": "Python 3",
   "language": "python",
   "name": "python3"
  },
  "language_info": {
   "codemirror_mode": {
    "name": "ipython",
    "version": 3
   },
   "file_extension": ".py",
   "mimetype": "text/x-python",
   "name": "python",
   "nbconvert_exporter": "python",
   "pygments_lexer": "ipython3",
   "version": "3.6.8"
  }
 },
 "nbformat": 4,
 "nbformat_minor": 2
}
